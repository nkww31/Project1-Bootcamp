{
 "cells": [
  {
   "cell_type": "code",
   "execution_count": 4,
   "metadata": {},
   "outputs": [],
   "source": [
    "def is_palindmore(word):\n",
    "    stack = []\n",
    "    for char in word:\n",
    "        stack.append(char)"
   ]
  },
  {
   "cell_type": "code",
   "execution_count": 13,
   "metadata": {},
   "outputs": [],
   "source": [
    "def is_palindrome(word):\n",
    "    stack = list(word)  # Convert the word to a list of characters\n",
    "    reversed_word = \"\"\n",
    "    \n",
    "    while stack:\n",
    "        reversed_word += stack.pop()\n",
    "\n",
    "    return word == reversed_word\n"
   ]
  },
  {
   "cell_type": "code",
   "execution_count": 14,
   "metadata": {},
   "outputs": [
    {
     "name": "stdout",
     "output_type": "stream",
     "text": [
      "racecar is a palindrome.\n"
     ]
    }
   ],
   "source": [
    "# Example usage\n",
    "word = \"racecar\"\n",
    "if is_palindrome(word):\n",
    "    print(f\"{word} is a palindrome.\")\n",
    "else:\n",
    "    print(f\"{word} is not a palindrome.\")"
   ]
  },
  {
   "cell_type": "markdown",
   "metadata": {},
   "source": [
    "List of comprehesions is a way of creating lists. It allows one to generate a list by evaluating an expression for each item in a sequence or iterable optionally including a condition. The syntax replaces the need for using loops to create lists."
   ]
  },
  {
   "cell_type": "code",
   "execution_count": 24,
   "metadata": {},
   "outputs": [],
   "source": [
    "#creating a list of squares without list comprehensions:\n",
    "\n",
    "squares= []\n",
    "for x in range (1,6):\n",
    "    squares.append(x**2)"
   ]
  },
  {
   "cell_type": "code",
   "execution_count": 25,
   "metadata": {},
   "outputs": [],
   "source": [
    "#with list comprehensions:\n",
    "squares=[x**2 for x in range (1,6)]"
   ]
  },
  {
   "cell_type": "code",
   "execution_count": 30,
   "metadata": {},
   "outputs": [],
   "source": [
    "#filtering a list without list comprehensions:\n",
    "numbers=[1,2,3,4,5,6]\n",
    "evens=[]\n",
    "for x in numbers:\n",
    " if x % 2 == 0:\n",
    "    evens.append(x)"
   ]
  },
  {
   "cell_type": "code",
   "execution_count": 32,
   "metadata": {},
   "outputs": [],
   "source": [
    "#with list comprehensions:\n",
    "numbers = [1,2,3,4,5,6]\n",
    "evens = [x for x in numbers if x % 2 == 0]"
   ]
  },
  {
   "cell_type": "code",
   "execution_count": 42,
   "metadata": {},
   "outputs": [],
   "source": [
    "#flattening a nested list without list comprehensions:\n",
    "nested_list = [[1,2,3],[4,5,6],[7,8,9]]\n",
    "flat_list = []\n",
    "for sublist in nested_list:\n",
    "    for item in sublist:\n",
    "        flat_list.append(item)"
   ]
  },
  {
   "cell_type": "code",
   "execution_count": 43,
   "metadata": {},
   "outputs": [],
   "source": [
    "#with list comprehensions:\n",
    "nested_list=[[1,2,3],[4,5,6],[7,8,9]]\n",
    "flat_list=[item for sublist in nested_list for item in sublist]"
   ]
  },
  {
   "cell_type": "markdown",
   "metadata": {},
   "source": [
    "Compound datatype in python is a type that can hold multiple values or elements,often of different types, within a single variable. They are used to group together values in a structured way. Most common datatypes include lists, tuples, dictionaries and sets."
   ]
  },
  {
   "cell_type": "code",
   "execution_count": 48,
   "metadata": {},
   "outputs": [
    {
     "name": "stdout",
     "output_type": "stream",
     "text": [
      "[1, 'apple', 3.14, True]\n",
      "apple\n",
      "[10, 'apple', 3.14, True]\n"
     ]
    }
   ],
   "source": [
    "#list- an orders collection of elements, which can be of any data type.\n",
    "my_list = [1,\"apple\",3.14, True]\n",
    "print(my_list)\n",
    "#accessing elements\n",
    "print(my_list[1])\n",
    "#modifying elements\n",
    "my_list[0]=10\n",
    "print(my_list)"
   ]
  },
  {
   "cell_type": "code",
   "execution_count": 49,
   "metadata": {},
   "outputs": [
    {
     "name": "stdout",
     "output_type": "stream",
     "text": [
      "(1, 'banana', 3.14)\n"
     ]
    }
   ],
   "source": [
    "#tuple- once created its cotents cannot be changed\n",
    "my_tuple=(1, \"banana\", 3.14)\n",
    "print(my_tuple)"
   ]
  },
  {
   "cell_type": "code",
   "execution_count": 51,
   "metadata": {},
   "outputs": [
    {
     "name": "stdout",
     "output_type": "stream",
     "text": [
      "{'name': 'Alice', 'age': 25, 'city': 'New York'}\n"
     ]
    }
   ],
   "source": [
    "#dictionary- an unordered collection of key-value pair. \n",
    "my_dict={\"name\":\"Alice\",\"age\":25,\"city\": \"New York\"}\n",
    "print(my_dict)"
   ]
  },
  {
   "cell_type": "code",
   "execution_count": 15,
   "metadata": {},
   "outputs": [],
   "source": [
    "def get_bigrams(string):\n",
    "  words = string.split()\n",
    "  bigrams = []\n",
    "  for i in range(len(words) - 1):\n",
    "    bigram = (words[i], words[i + 1])\n",
    "    bigrams.append(bigram)\n",
    "  return bigrams\n"
   ]
  },
  {
   "cell_type": "code",
   "execution_count": 16,
   "metadata": {},
   "outputs": [
    {
     "name": "stdout",
     "output_type": "stream",
     "text": [
      "[('This', 'is'), ('is', 'a'), ('a', 'sample'), ('sample', 'sentence')]\n"
     ]
    }
   ],
   "source": [
    "# Example usage:\n",
    "text = \"This is a sample sentence\"\n",
    "bigrams = get_bigrams(text)\n",
    "print(bigrams)"
   ]
  },
  {
   "cell_type": "code",
   "execution_count": 17,
   "metadata": {},
   "outputs": [],
   "source": [
    "def closest_key(dictionary, target_value):\n",
    "    min_index = float('inf')\n",
    "    closest_key = None\n",
    "\n",
    "    for key, value_list in dictionary.items():\n",
    "        if target_value in value_list:\n",
    "            current_index = value_list.index(target_value)\n",
    "            if current_index < min_index:\n",
    "                min_index = current_index\n",
    "                closest_key = key\n",
    "\n",
    "    return closest_key\n"
   ]
  },
  {
   "cell_type": "code",
   "execution_count": 19,
   "metadata": {},
   "outputs": [],
   "source": [
    "# Example usage\n",
    "example_dict = {\n",
    "    'A': ['a', 'b', 'c', 'd'],\n",
    "    'B': ['b', 'c', 'd', 'a'],\n",
    "    'C': ['c', 'a', 'b', 'd'],\n",
    "    'D': ['d', 'c', 'b', 'a']}\n"
   ]
  },
  {
   "cell_type": "code",
   "execution_count": 20,
   "metadata": {},
   "outputs": [
    {
     "name": "stdout",
     "output_type": "stream",
     "text": [
      "The key with 'a' closest to the beginning is: A\n",
      "The key with 'b' closest to the beginning is: B\n",
      "The key with 'c' closest to the beginning is: C\n",
      "The key with 'd' closest to the beginning is: D\n",
      "The key with 'e' closest to the beginning is: None\n"
     ]
    }
   ],
   "source": [
    "target = 'a'\n",
    "result = closest_key(example_dict, target)\n",
    "print(f\"The key with '{target}' closest to the beginning is: {result}\")\n",
    "\n",
    "target = 'b'\n",
    "result = closest_key(example_dict, target)\n",
    "print(f\"The key with '{target}' closest to the beginning is: {result}\")\n",
    "\n",
    "target = 'c'\n",
    "result = closest_key(example_dict, target)\n",
    "print(f\"The key with '{target}' closest to the beginning is: {result}\")\n",
    "\n",
    "target = 'd'\n",
    "result = closest_key(example_dict, target)\n",
    "print(f\"The key with '{target}' closest to the beginning is: {result}\")\n",
    "\n",
    "target = 'e'\n",
    "result = closest_key(example_dict, target)\n",
    "print(f\"The key with '{target}' closest to the beginning is: {result}\")\n"
   ]
  },
  {
   "cell_type": "code",
   "execution_count": null,
   "metadata": {},
   "outputs": [],
   "source": []
  }
 ],
 "metadata": {
  "kernelspec": {
   "display_name": "Python 3",
   "language": "python",
   "name": "python3"
  },
  "language_info": {
   "codemirror_mode": {
    "name": "ipython",
    "version": 3
   },
   "file_extension": ".py",
   "mimetype": "text/x-python",
   "name": "python",
   "nbconvert_exporter": "python",
   "pygments_lexer": "ipython3",
   "version": "3.12.4"
  }
 },
 "nbformat": 4,
 "nbformat_minor": 2
}
